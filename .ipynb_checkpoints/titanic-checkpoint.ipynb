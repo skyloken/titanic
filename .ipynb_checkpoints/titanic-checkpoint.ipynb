{
 "cells": [
  {
   "cell_type": "code",
   "execution_count": null,
   "metadata": {},
   "outputs": [],
   "source": [
    "import pandas as pd\n",
    "import numpy as np\n",
    "\n",
    "train = pd.read_csv('~/.kaggle/competitions/titanic/train.csv')\n",
    "test = pd.read_csv('~/.kaggle/competitions/titanic/test.csv')"
   ]
  },
  {
   "cell_type": "code",
   "execution_count": null,
   "metadata": {},
   "outputs": [],
   "source": [
    "train.head()"
   ]
  },
  {
   "cell_type": "code",
   "execution_count": null,
   "metadata": {},
   "outputs": [],
   "source": [
    "test.head()"
   ]
  },
  {
   "cell_type": "code",
   "execution_count": null,
   "metadata": {},
   "outputs": [],
   "source": [
    "train_shape = train.shape\n",
    "test_shape = test.shape\n",
    "print(train_shape)\n",
    "print(test_shape)"
   ]
  },
  {
   "cell_type": "code",
   "execution_count": null,
   "metadata": {},
   "outputs": [],
   "source": [
    "train.describe()"
   ]
  },
  {
   "cell_type": "code",
   "execution_count": null,
   "metadata": {},
   "outputs": [],
   "source": [
    "test.describe()"
   ]
  },
  {
   "cell_type": "code",
   "execution_count": null,
   "metadata": {},
   "outputs": [],
   "source": [
    "def kesson_table(df):\n",
    "    null_val = df.isnull().sum()\n",
    "    percent = 100 * df.isnull().sum() / len(df)\n",
    "    kesson_table = pd.concat([null_val, percent], axis=1)\n",
    "    kesson_table_ren_columns = kesson_table.rename(columns={0: '欠損数', 1: '%'})\n",
    "    return kesson_table_ren_columns"
   ]
  },
  {
   "cell_type": "code",
   "execution_count": null,
   "metadata": {},
   "outputs": [],
   "source": [
    "kesson_table(train)"
   ]
  },
  {
   "cell_type": "code",
   "execution_count": null,
   "metadata": {},
   "outputs": [],
   "source": [
    "kesson_table(test)"
   ]
  },
  {
   "cell_type": "code",
   "execution_count": null,
   "metadata": {},
   "outputs": [],
   "source": [
    "# カテゴリデータの処理\n",
    "import numpy as np\n",
    "sex_mapping = {'male': 0, 'female': 1}\n",
    "embarked_mapping = {'S': 0, 'C': 1, 'Q': 2}\n",
    "train['Sex'] = train['Sex'].map(sex_mapping)\n",
    "train['Embarked'] = train['Embarked'].map(embarked_mapping)\n",
    "test['Sex'] = test['Sex'].map(sex_mapping)\n",
    "test['Embarked'] = test['Embarked'].map(embarked_mapping)"
   ]
  },
  {
   "cell_type": "code",
   "execution_count": null,
   "metadata": {},
   "outputs": [],
   "source": [
    "# 欠損データの補完\n",
    "from sklearn.preprocessing import Imputer\n",
    "imr = Imputer(missing_values=\"NaN\", strategy=\"median\", axis=0)\n",
    "train[['Age']] = imr.fit_transform(train[['Age']])\n",
    "test[['Age']] = imr.fit_transform(test[['Age']])\n",
    "test[['Fare']] = imr.fit_transform(test[['Fare']])\n",
    "imr = Imputer(missing_values=\"NaN\", strategy=\"most_frequent\", axis=0)\n",
    "train[['Embarked']] = imr.fit_transform(train[['Embarked']])\n",
    "test[['Embarked']] = imr.fit_transform(test[['Embarked']])"
   ]
  },
  {
   "cell_type": "code",
   "execution_count": null,
   "metadata": {},
   "outputs": [],
   "source": [
    "kesson_table(train)"
   ]
  },
  {
   "cell_type": "code",
   "execution_count": null,
   "metadata": {},
   "outputs": [],
   "source": [
    "kesson_table(test)"
   ]
  },
  {
   "cell_type": "code",
   "execution_count": null,
   "metadata": {},
   "outputs": [],
   "source": [
    "# 決定木\n",
    "from sklearn.tree import DecisionTreeClassifier\n",
    "X_train = train[['Pclass', 'Sex', 'Age', 'Fare']].values\n",
    "y_train = train['Survived'].values\n",
    "# 決定木の作成\n",
    "tree = DecisionTreeClassifier()\n",
    "tree.fit(X_train, y_train)\n",
    "# testの説明変数の値を取得\n",
    "X_test = test[['Pclass', 'Sex', 'Age', 'Fare']].values\n",
    "# testの説明変数を使って予測\n",
    "pred = tree.predict(X_test)\n",
    "# PassengerIdを取得\n",
    "PassengerId = np.array(test['PassengerId'].astype(int))\n",
    "my_solution = pd.DataFrame(pred, PassengerId, columns=['Survived'])\n",
    "# CSV保存\n",
    "my_solution.to_csv('outputs/tree.csv', index_label=['PassengerId'])"
   ]
  },
  {
   "cell_type": "code",
   "execution_count": null,
   "metadata": {},
   "outputs": [],
   "source": [
    "# 特徴量を増やす\n",
    "X_train2 = train[['Pclass', 'Age', 'Sex',\n",
    "                  'Fare', 'SibSp', 'Parch', 'Embarked']]\n",
    "tree2 = DecisionTreeClassifier(\n",
    "    max_depth=10, min_samples_split=5, random_state=1)\n",
    "tree2.fit(X_train2, y_train)\n",
    "X_test2 = test[['Pclass', 'Age', 'Sex', 'Fare',\n",
    "                'SibSp', 'Parch', 'Embarked']].values\n",
    "pred = tree2.predict(X_test2)\n",
    "my_solution = pd.DataFrame(pred, PassengerId, columns=['Survived'])\n",
    "my_solution.to_csv('outputs/tree2.csv', index_label=['PassengerId'])"
   ]
  },
  {
   "cell_type": "code",
   "execution_count": null,
   "metadata": {},
   "outputs": [],
   "source": [
    "#ランダムフォレスト\n",
    "from sklearn.ensemble import RandomForestClassifier\n",
    "forest = RandomForestClassifier(criterion='gini', n_estimators=10, random_state=1, n_jobs=-1)\n",
    "forest.fit(X_train2, y_train)\n",
    "pred = forest.predict(X_test2)\n",
    "my_solution = pd.DataFrame(pred, PassengerId, columns=['Survived'])\n",
    "my_solution.to_csv('outputs/forest.csv', index_label=['PassengerId'])"
   ]
  }
 ],
 "metadata": {
  "kernelspec": {
   "display_name": "Python 3",
   "language": "python",
   "name": "python3"
  },
  "language_info": {
   "codemirror_mode": {
    "name": "ipython",
    "version": 3
   },
   "file_extension": ".py",
   "mimetype": "text/x-python",
   "name": "python",
   "nbconvert_exporter": "python",
   "pygments_lexer": "ipython3",
   "version": "3.6.6"
  }
 },
 "nbformat": 4,
 "nbformat_minor": 2
}
